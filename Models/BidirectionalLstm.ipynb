{
  "nbformat": 4,
  "nbformat_minor": 0,
  "metadata": {
    "colab": {
      "provenance": [],
      "gpuType": "A100",
      "machine_shape": "hm"
    },
    "kernelspec": {
      "name": "python3",
      "display_name": "Python 3"
    },
    "language_info": {
      "name": "python"
    },
    "accelerator": "GPU"
  },
  "cells": [
    {
      "cell_type": "code",
      "source": [
        "from google.colab import drive\n",
        "drive.mount('/content/drive')"
      ],
      "metadata": {
        "colab": {
          "base_uri": "https://localhost:8080/"
        },
        "id": "gZZGIEqtno-2",
        "outputId": "2d52fc0a-25da-4c3b-9a70-425aecf90344"
      },
      "execution_count": 1,
      "outputs": [
        {
          "output_type": "stream",
          "name": "stdout",
          "text": [
            "Mounted at /content/drive\n"
          ]
        }
      ]
    },
    {
      "cell_type": "code",
      "source": [
        "import pandas as pd\n",
        "dataset = pd.read_csv('/content/drive/MyDrive/dataset.csv')"
      ],
      "metadata": {
        "id": "IVJJMZeyntyV"
      },
      "execution_count": 2,
      "outputs": []
    },
    {
      "cell_type": "code",
      "source": [
        "!pip install torchtext==0.6.0\n",
        "!pip install spacy"
      ],
      "metadata": {
        "colab": {
          "base_uri": "https://localhost:8080/"
        },
        "id": "WFnUmvCbny-M",
        "outputId": "1ad857cf-95ba-42c0-927a-673550469583"
      },
      "execution_count": 3,
      "outputs": [
        {
          "output_type": "stream",
          "name": "stdout",
          "text": [
            "Collecting torchtext==0.6.0\n",
            "  Downloading torchtext-0.6.0-py3-none-any.whl (64 kB)\n",
            "\u001b[?25l     \u001b[90m━━━━━━━━━━━━━━━━━━━━━━━━━━━━━━━━━━━━━━━━\u001b[0m \u001b[32m0.0/64.2 kB\u001b[0m \u001b[31m?\u001b[0m eta \u001b[36m-:--:--\u001b[0m\r\u001b[2K     \u001b[90m━━━━━━━━━━━━━━━━━━━━━━━━━━━━━━━━━━━━━━━━\u001b[0m \u001b[32m64.2/64.2 kB\u001b[0m \u001b[31m1.7 MB/s\u001b[0m eta \u001b[36m0:00:00\u001b[0m\n",
            "\u001b[?25hRequirement already satisfied: tqdm in /usr/local/lib/python3.10/dist-packages (from torchtext==0.6.0) (4.66.1)\n",
            "Requirement already satisfied: requests in /usr/local/lib/python3.10/dist-packages (from torchtext==0.6.0) (2.31.0)\n",
            "Requirement already satisfied: torch in /usr/local/lib/python3.10/dist-packages (from torchtext==0.6.0) (2.1.0+cu118)\n",
            "Requirement already satisfied: numpy in /usr/local/lib/python3.10/dist-packages (from torchtext==0.6.0) (1.23.5)\n",
            "Requirement already satisfied: six in /usr/local/lib/python3.10/dist-packages (from torchtext==0.6.0) (1.16.0)\n",
            "Collecting sentencepiece (from torchtext==0.6.0)\n",
            "  Downloading sentencepiece-0.1.99-cp310-cp310-manylinux_2_17_x86_64.manylinux2014_x86_64.whl (1.3 MB)\n",
            "\u001b[2K     \u001b[90m━━━━━━━━━━━━━━━━━━━━━━━━━━━━━━━━━━━━━━━━\u001b[0m \u001b[32m1.3/1.3 MB\u001b[0m \u001b[31m29.7 MB/s\u001b[0m eta \u001b[36m0:00:00\u001b[0m\n",
            "\u001b[?25hRequirement already satisfied: charset-normalizer<4,>=2 in /usr/local/lib/python3.10/dist-packages (from requests->torchtext==0.6.0) (3.3.1)\n",
            "Requirement already satisfied: idna<4,>=2.5 in /usr/local/lib/python3.10/dist-packages (from requests->torchtext==0.6.0) (3.4)\n",
            "Requirement already satisfied: urllib3<3,>=1.21.1 in /usr/local/lib/python3.10/dist-packages (from requests->torchtext==0.6.0) (2.0.7)\n",
            "Requirement already satisfied: certifi>=2017.4.17 in /usr/local/lib/python3.10/dist-packages (from requests->torchtext==0.6.0) (2023.7.22)\n",
            "Requirement already satisfied: filelock in /usr/local/lib/python3.10/dist-packages (from torch->torchtext==0.6.0) (3.12.4)\n",
            "Requirement already satisfied: typing-extensions in /usr/local/lib/python3.10/dist-packages (from torch->torchtext==0.6.0) (4.5.0)\n",
            "Requirement already satisfied: sympy in /usr/local/lib/python3.10/dist-packages (from torch->torchtext==0.6.0) (1.12)\n",
            "Requirement already satisfied: networkx in /usr/local/lib/python3.10/dist-packages (from torch->torchtext==0.6.0) (3.2)\n",
            "Requirement already satisfied: jinja2 in /usr/local/lib/python3.10/dist-packages (from torch->torchtext==0.6.0) (3.1.2)\n",
            "Requirement already satisfied: fsspec in /usr/local/lib/python3.10/dist-packages (from torch->torchtext==0.6.0) (2023.6.0)\n",
            "Requirement already satisfied: triton==2.1.0 in /usr/local/lib/python3.10/dist-packages (from torch->torchtext==0.6.0) (2.1.0)\n",
            "Requirement already satisfied: MarkupSafe>=2.0 in /usr/local/lib/python3.10/dist-packages (from jinja2->torch->torchtext==0.6.0) (2.1.3)\n",
            "Requirement already satisfied: mpmath>=0.19 in /usr/local/lib/python3.10/dist-packages (from sympy->torch->torchtext==0.6.0) (1.3.0)\n",
            "Installing collected packages: sentencepiece, torchtext\n",
            "  Attempting uninstall: torchtext\n",
            "    Found existing installation: torchtext 0.16.0\n",
            "    Uninstalling torchtext-0.16.0:\n",
            "      Successfully uninstalled torchtext-0.16.0\n",
            "Successfully installed sentencepiece-0.1.99 torchtext-0.6.0\n",
            "Requirement already satisfied: spacy in /usr/local/lib/python3.10/dist-packages (3.6.1)\n",
            "Requirement already satisfied: spacy-legacy<3.1.0,>=3.0.11 in /usr/local/lib/python3.10/dist-packages (from spacy) (3.0.12)\n",
            "Requirement already satisfied: spacy-loggers<2.0.0,>=1.0.0 in /usr/local/lib/python3.10/dist-packages (from spacy) (1.0.5)\n",
            "Requirement already satisfied: murmurhash<1.1.0,>=0.28.0 in /usr/local/lib/python3.10/dist-packages (from spacy) (1.0.10)\n",
            "Requirement already satisfied: cymem<2.1.0,>=2.0.2 in /usr/local/lib/python3.10/dist-packages (from spacy) (2.0.8)\n",
            "Requirement already satisfied: preshed<3.1.0,>=3.0.2 in /usr/local/lib/python3.10/dist-packages (from spacy) (3.0.9)\n",
            "Requirement already satisfied: thinc<8.2.0,>=8.1.8 in /usr/local/lib/python3.10/dist-packages (from spacy) (8.1.12)\n",
            "Requirement already satisfied: wasabi<1.2.0,>=0.9.1 in /usr/local/lib/python3.10/dist-packages (from spacy) (1.1.2)\n",
            "Requirement already satisfied: srsly<3.0.0,>=2.4.3 in /usr/local/lib/python3.10/dist-packages (from spacy) (2.4.8)\n",
            "Requirement already satisfied: catalogue<2.1.0,>=2.0.6 in /usr/local/lib/python3.10/dist-packages (from spacy) (2.0.10)\n",
            "Requirement already satisfied: typer<0.10.0,>=0.3.0 in /usr/local/lib/python3.10/dist-packages (from spacy) (0.9.0)\n",
            "Requirement already satisfied: pathy>=0.10.0 in /usr/local/lib/python3.10/dist-packages (from spacy) (0.10.3)\n",
            "Requirement already satisfied: smart-open<7.0.0,>=5.2.1 in /usr/local/lib/python3.10/dist-packages (from spacy) (6.4.0)\n",
            "Requirement already satisfied: tqdm<5.0.0,>=4.38.0 in /usr/local/lib/python3.10/dist-packages (from spacy) (4.66.1)\n",
            "Requirement already satisfied: numpy>=1.15.0 in /usr/local/lib/python3.10/dist-packages (from spacy) (1.23.5)\n",
            "Requirement already satisfied: requests<3.0.0,>=2.13.0 in /usr/local/lib/python3.10/dist-packages (from spacy) (2.31.0)\n",
            "Requirement already satisfied: pydantic!=1.8,!=1.8.1,<3.0.0,>=1.7.4 in /usr/local/lib/python3.10/dist-packages (from spacy) (1.10.13)\n",
            "Requirement already satisfied: jinja2 in /usr/local/lib/python3.10/dist-packages (from spacy) (3.1.2)\n",
            "Requirement already satisfied: setuptools in /usr/local/lib/python3.10/dist-packages (from spacy) (67.7.2)\n",
            "Requirement already satisfied: packaging>=20.0 in /usr/local/lib/python3.10/dist-packages (from spacy) (23.2)\n",
            "Requirement already satisfied: langcodes<4.0.0,>=3.2.0 in /usr/local/lib/python3.10/dist-packages (from spacy) (3.3.0)\n",
            "Requirement already satisfied: typing-extensions>=4.2.0 in /usr/local/lib/python3.10/dist-packages (from pydantic!=1.8,!=1.8.1,<3.0.0,>=1.7.4->spacy) (4.5.0)\n",
            "Requirement already satisfied: charset-normalizer<4,>=2 in /usr/local/lib/python3.10/dist-packages (from requests<3.0.0,>=2.13.0->spacy) (3.3.1)\n",
            "Requirement already satisfied: idna<4,>=2.5 in /usr/local/lib/python3.10/dist-packages (from requests<3.0.0,>=2.13.0->spacy) (3.4)\n",
            "Requirement already satisfied: urllib3<3,>=1.21.1 in /usr/local/lib/python3.10/dist-packages (from requests<3.0.0,>=2.13.0->spacy) (2.0.7)\n",
            "Requirement already satisfied: certifi>=2017.4.17 in /usr/local/lib/python3.10/dist-packages (from requests<3.0.0,>=2.13.0->spacy) (2023.7.22)\n",
            "Requirement already satisfied: blis<0.8.0,>=0.7.8 in /usr/local/lib/python3.10/dist-packages (from thinc<8.2.0,>=8.1.8->spacy) (0.7.11)\n",
            "Requirement already satisfied: confection<1.0.0,>=0.0.1 in /usr/local/lib/python3.10/dist-packages (from thinc<8.2.0,>=8.1.8->spacy) (0.1.3)\n",
            "Requirement already satisfied: click<9.0.0,>=7.1.1 in /usr/local/lib/python3.10/dist-packages (from typer<0.10.0,>=0.3.0->spacy) (8.1.7)\n",
            "Requirement already satisfied: MarkupSafe>=2.0 in /usr/local/lib/python3.10/dist-packages (from jinja2->spacy) (2.1.3)\n"
          ]
        }
      ]
    },
    {
      "cell_type": "code",
      "source": [
        "import pandas as pd\n",
        "import torch\n",
        "from torch import nn, optim\n",
        "from torchtext import data\n",
        "from torchtext.vocab import GloVe\n",
        "import html  # Import the html library for decoding HTML entities\n",
        "import spacy\n",
        "from sklearn.metrics import f1_score, confusion_matrix\n",
        "import seaborn as sns\n",
        "import matplotlib.pyplot as plt"
      ],
      "metadata": {
        "id": "i8zDNAbIp95y"
      },
      "execution_count": 4,
      "outputs": []
    },
    {
      "cell_type": "code",
      "source": [
        "# Load your dataset from the CSV file\n",
        "df_small = pd.read_csv('/content/drive/MyDrive/dataset.csv')\n",
        "\n",
        "# Create a spaCy tokenizer\n",
        "nlp = spacy.load(\"en_core_web_sm\", disable=[\"parser\", \"tagger\", \"ner\"])"
      ],
      "metadata": {
        "id": "Y0bDt6Twpy5w"
      },
      "execution_count": 5,
      "outputs": []
    },
    {
      "cell_type": "code",
      "source": [
        "# Define a custom tokenizer function to handle decoding and tokenization\n",
        "def custom_tokenizer(text):\n",
        "    decoded_text = html.unescape(text)\n",
        "    tokens = [tok.text for tok in nlp(decoded_text)]\n",
        "    return tokens"
      ],
      "metadata": {
        "id": "CrvT5bMjqDbv"
      },
      "execution_count": 6,
      "outputs": []
    },
    {
      "cell_type": "code",
      "source": [
        "\n",
        "# Define the text and label fields\n",
        "TEXT = data.Field(\n",
        "    sequential=True,\n",
        "    tokenize=custom_tokenizer,\n",
        "    lower=True,\n",
        "    include_lengths=True,\n",
        "    fix_length=100\n",
        ")\n",
        "LABEL = data.LabelField(dtype=torch.float)\n",
        "\n",
        "# Create examples from your DataFrame\n",
        "examples = [data.Example.fromlist([html.unescape(text), label], fields=[('text', TEXT), ('label', LABEL)]) for text, label in zip(df_small['text'], df_small['label'])]\n",
        "\n",
        "# Create a Dataset\n",
        "dataset = data.Dataset(examples, fields=[('text', TEXT), ('label', LABEL)])\n",
        "\n",
        "# Split the dataset\n",
        "train_data, temp_data = dataset.split(split_ratio=0.8)\n",
        "val_data, test_data = temp_data.split(split_ratio=0.5)\n",
        "\n",
        "# Build the vocabulary\n",
        "TEXT.build_vocab(train_data, max_size=20000, vectors=GloVe(name=\"6B\", dim=300, unk_init=torch.Tensor.normal_))\n",
        "LABEL.build_vocab(train_data)"
      ],
      "metadata": {
        "colab": {
          "base_uri": "https://localhost:8080/"
        },
        "id": "ku9NbCzSqLJa",
        "outputId": "cfb61d11-1e59-45a1-cd9d-89eeba10f27c"
      },
      "execution_count": 7,
      "outputs": [
        {
          "output_type": "stream",
          "name": "stderr",
          "text": [
            "/usr/local/lib/python3.10/dist-packages/spacy/pipeline/lemmatizer.py:211: UserWarning: [W108] The rule-based lemmatizer did not find POS annotation for one or more tokens. Check that your pipeline includes components that assign token.pos, typically 'tagger'+'attribute_ruler' or 'morphologizer'.\n",
            "  warnings.warn(Warnings.W108)\n",
            ".vector_cache/glove.6B.zip: 862MB [02:40, 5.37MB/s]                           \n",
            "100%|█████████▉| 399999/400000 [00:46<00:00, 8619.81it/s]\n"
          ]
        }
      ]
    },
    {
      "cell_type": "code",
      "source": [
        "# Create iterators for the datasets\n",
        "device = torch.device(\"cuda\" if torch.cuda.is_available() else \"cpu\")\n",
        "\n",
        "batch_size = 16\n",
        "train_iter, val_iter, test_iter = data.BucketIterator.splits(\n",
        "    (train_data, val_data, test_data),\n",
        "    batch_size=batch_size,\n",
        "    sort_within_batch=True,\n",
        "    sort_key=lambda x: len(x.text),\n",
        "    device=device,\n",
        ")"
      ],
      "metadata": {
        "id": "iUP7yHoBqQ1z"
      },
      "execution_count": 8,
      "outputs": []
    },
    {
      "cell_type": "code",
      "source": [
        "\n",
        "# Define the LSTM-based text classification model\n",
        "class LSTMClassifier(nn.Module):\n",
        "    def __init__(self, vocab_size, embedding_dim, hidden_dim, output_dim, n_layers, bidirectional, dropout):\n",
        "        super(LSTMClassifier, self).__init__()\n",
        "\n",
        "        self.embedding = nn.Embedding(vocab_size, embedding_dim)\n",
        "        self.lstm = nn.LSTM(embedding_dim, hidden_dim, num_layers=n_layers, bidirectional=bidirectional, dropout=dropout)\n",
        "        self.fc = nn.Linear(hidden_dim * 2 if bidirectional else hidden_dim, output_dim)\n",
        "        self.dropout = nn.Dropout(dropout)\n",
        "\n",
        "    def forward(self, text, text_lengths):\n",
        "        embedded = self.dropout(self.embedding(text))\n",
        "        text_lengths = text_lengths.cpu()  # Move the lengths tensor to the CPU\n",
        "        packed_embedded = nn.utils.rnn.pack_padded_sequence(embedded, text_lengths)\n",
        "        packed_output, (hidden, cell) = self.lstm(packed_embedded)\n",
        "        output, output_lengths = nn.utils.rnn.pad_packed_sequence(packed_output)\n",
        "        hidden = self.dropout(torch.cat((hidden[-2, :, :], hidden[-1, :, :]), dim=1) if self.lstm.bidirectional else hidden[-1, :, :])\n",
        "        return self.fc(hidden)"
      ],
      "metadata": {
        "id": "-s0K0nu9qTiP"
      },
      "execution_count": 9,
      "outputs": []
    },
    {
      "cell_type": "code",
      "source": [
        "vocab_size = len(TEXT.vocab)\n",
        "embedding_dim = 300\n",
        "hidden_dim = 256  # Increase hidden layer dimensions\n",
        "output_dim = 1\n",
        "n_layers = 3\n",
        "bidirectional = True\n",
        "dropout = 0.5\n",
        "\n",
        "# Initialize the model\n",
        "model = LSTMClassifier(vocab_size, embedding_dim, hidden_dim, output_dim, n_layers, bidirectional, dropout)\n",
        "\n",
        "# Set the optimizer and loss function\n",
        "optimizer = optim.Adam(model.parameters(), lr=0.001, weight_decay=0.001)  # Adjust learning rate and weight decay\n",
        "scheduler = optim.lr_scheduler.ReduceLROnPlateau(optimizer, 'min', patience=3, factor=0.5, verbose=True)\n",
        "criterion = nn.BCEWithLogitsLoss()\n",
        "\n",
        "# Move the model to the appropriate device\n",
        "model = model.to(device)"
      ],
      "metadata": {
        "id": "4TqpChJ4qdDt"
      },
      "execution_count": 10,
      "outputs": []
    },
    {
      "cell_type": "code",
      "source": [
        "# Training loop\n",
        "def train_model(\n",
        "    model,\n",
        "    train_iter,\n",
        "    val_iter,\n",
        "    optimizer,\n",
        "    scheduler,\n",
        "    criterion=nn.BCEWithLogitsLoss(),\n",
        "    epochs=10,\n",
        "    early_stopping=False,\n",
        "    patience=4,\n",
        "):\n",
        "    train_losses = []\n",
        "    val_losses = []\n",
        "    train_accs = []\n",
        "    val_accs = []\n",
        "\n",
        "    if early_stopping:\n",
        "        patience_count = 0\n",
        "        best_val_loss = float(\"inf\")\n",
        "\n",
        "    for epoch in range(1, epochs + 1):\n",
        "        train_loss = 0.0\n",
        "        train_acc = 0.0\n",
        "        model.train()\n",
        "\n",
        "        for batch in train_iter:\n",
        "            optimizer.zero_grad()\n",
        "            text, text_lengths = batch.text\n",
        "            labels = batch.label\n",
        "            predictions = model(text, text_lengths).squeeze(1)\n",
        "            loss = criterion(predictions, labels)\n",
        "            loss.backward()\n",
        "            optimizer.step()\n",
        "            train_loss += loss.item()\n",
        "            train_acc += binary_accuracy(predictions, labels)\n",
        "\n",
        "        train_loss /= len(train_iter)\n",
        "        train_acc /= len(train_iter)\n",
        "        train_losses.append(train_loss)\n",
        "        train_accs.append(train_acc)\n",
        "\n",
        "        val_loss, val_acc = evaluate_model(model, val_iter, criterion)\n",
        "        val_losses.append(val_loss)\n",
        "        val_accs.append(val_acc)\n",
        "\n",
        "        print(\n",
        "            f\"Epoch: {epoch}, Train Loss: {train_loss:.4f}, Train Acc: {train_acc:.4f}, Val Loss: {val_loss:.4f}, Val Acc: {val_acc:.4f}\"\n",
        "        )\n",
        "\n",
        "        if early_stopping:\n",
        "            scheduler.step(val_loss)\n",
        "            if val_loss < best_val_loss:\n",
        "                best_val_loss = val_loss\n",
        "                patience_count = 0\n",
        "            else:\n",
        "                patience_count += 1\n",
        "                if patience_count >= patience:\n",
        "                    print(\"Early stopping. Patience limit reached.\")\n",
        "                    break\n",
        "\n",
        "    return train_losses, val_losses, train_accs, val_accs"
      ],
      "metadata": {
        "id": "E48T6NG3qjh3"
      },
      "execution_count": 11,
      "outputs": []
    },
    {
      "cell_type": "code",
      "source": [
        "\n",
        "def evaluate_model(model, iterator, criterion):\n",
        "    model.eval()\n",
        "    epoch_loss = 0\n",
        "    epoch_acc = 0\n",
        "\n",
        "    with torch.no_grad():\n",
        "        for batch in iterator:\n",
        "            text, text_lengths = batch.text\n",
        "            labels = batch.label\n",
        "            predictions = model(text, text_lengths).squeeze(1)\n",
        "            loss = criterion(predictions, labels)\n",
        "            acc = binary_accuracy(predictions, labels)\n",
        "            epoch_loss += loss.item()\n",
        "            epoch_acc += acc\n",
        "\n",
        "    return epoch_loss / len(iterator), epoch_acc / len(iterator)\n"
      ],
      "metadata": {
        "id": "blVMfV5fqr5J"
      },
      "execution_count": 12,
      "outputs": []
    },
    {
      "cell_type": "code",
      "source": [
        "\n",
        "def binary_accuracy(preds, y):\n",
        "    rounded_preds = torch.round(torch.sigmoid(preds))\n",
        "    correct = (rounded_preds == y).float()\n",
        "    acc = correct.sum() / len(correct)\n",
        "    return acc"
      ],
      "metadata": {
        "id": "YTQqVXi-qwJu"
      },
      "execution_count": 13,
      "outputs": []
    },
    {
      "cell_type": "code",
      "execution_count": 14,
      "metadata": {
        "id": "kEdA67qLnlZf",
        "colab": {
          "base_uri": "https://localhost:8080/"
        },
        "outputId": "9f50bf33-a73e-4af1-ce66-b05a1a9e7c10"
      },
      "outputs": [
        {
          "output_type": "stream",
          "name": "stdout",
          "text": [
            "Epoch: 1, Train Loss: 0.6258, Train Acc: 0.6562, Val Loss: 0.5828, Val Acc: 0.6938\n",
            "Epoch: 2, Train Loss: 0.5687, Train Acc: 0.7133, Val Loss: 0.5267, Val Acc: 0.7443\n",
            "Epoch: 3, Train Loss: 0.5274, Train Acc: 0.7431, Val Loss: 0.5039, Val Acc: 0.7636\n",
            "Epoch: 4, Train Loss: 0.5074, Train Acc: 0.7590, Val Loss: 0.5110, Val Acc: 0.7500\n",
            "Epoch: 5, Train Loss: 0.4989, Train Acc: 0.7636, Val Loss: 0.4959, Val Acc: 0.7689\n",
            "Epoch: 6, Train Loss: 0.4889, Train Acc: 0.7729, Val Loss: 0.4893, Val Acc: 0.7726\n",
            "Epoch: 7, Train Loss: 0.4787, Train Acc: 0.7777, Val Loss: 0.4982, Val Acc: 0.7713\n",
            "Epoch: 8, Train Loss: 0.4684, Train Acc: 0.7841, Val Loss: 0.4844, Val Acc: 0.7709\n",
            "Epoch: 9, Train Loss: 0.4618, Train Acc: 0.7878, Val Loss: 0.4877, Val Acc: 0.7753\n",
            "Epoch: 10, Train Loss: 0.4597, Train Acc: 0.7913, Val Loss: 0.4833, Val Acc: 0.7709\n",
            "Epoch: 11, Train Loss: 0.4529, Train Acc: 0.7929, Val Loss: 0.4876, Val Acc: 0.7793\n",
            "Epoch: 12, Train Loss: 0.4481, Train Acc: 0.8005, Val Loss: 0.4891, Val Acc: 0.7789\n",
            "Epoch: 13, Train Loss: 0.4442, Train Acc: 0.8010, Val Loss: 0.4801, Val Acc: 0.7786\n",
            "Epoch: 14, Train Loss: 0.4417, Train Acc: 0.8027, Val Loss: 0.4827, Val Acc: 0.7749\n",
            "Epoch: 15, Train Loss: 0.4392, Train Acc: 0.8048, Val Loss: 0.4858, Val Acc: 0.7789\n"
          ]
        },
        {
          "output_type": "execute_result",
          "data": {
            "text/plain": [
              "([0.6258108954429626,\n",
              "  0.5686689061522484,\n",
              "  0.5274493420918782,\n",
              "  0.5073837298403183,\n",
              "  0.4988755867977937,\n",
              "  0.48891683625181515,\n",
              "  0.4787037897010644,\n",
              "  0.4683609980593125,\n",
              "  0.4618074683447679,\n",
              "  0.45968940514326095,\n",
              "  0.4528616643945376,\n",
              "  0.44805779335896173,\n",
              "  0.4441747514108817,\n",
              "  0.4417378476460775,\n",
              "  0.43919259286423523],\n",
              " [0.5828291572471882,\n",
              "  0.5267071861852991,\n",
              "  0.503878006275664,\n",
              "  0.5109511680425481,\n",
              "  0.49593713356459396,\n",
              "  0.48932861774525743,\n",
              "  0.49816174511896805,\n",
              "  0.4843508080440633,\n",
              "  0.48771264808292086,\n",
              "  0.48330319213106276,\n",
              "  0.4875898762269223,\n",
              "  0.48911520624731447,\n",
              "  0.4800587805344703,\n",
              "  0.4826705056302091,\n",
              "  0.4857717893542127],\n",
              " [tensor(0.6562, device='cuda:0'),\n",
              "  tensor(0.7133, device='cuda:0'),\n",
              "  tensor(0.7431, device='cuda:0'),\n",
              "  tensor(0.7590, device='cuda:0'),\n",
              "  tensor(0.7636, device='cuda:0'),\n",
              "  tensor(0.7729, device='cuda:0'),\n",
              "  tensor(0.7777, device='cuda:0'),\n",
              "  tensor(0.7841, device='cuda:0'),\n",
              "  tensor(0.7878, device='cuda:0'),\n",
              "  tensor(0.7913, device='cuda:0'),\n",
              "  tensor(0.7929, device='cuda:0'),\n",
              "  tensor(0.8005, device='cuda:0'),\n",
              "  tensor(0.8010, device='cuda:0'),\n",
              "  tensor(0.8027, device='cuda:0'),\n",
              "  tensor(0.8048, device='cuda:0')],\n",
              " [tensor(0.6938, device='cuda:0'),\n",
              "  tensor(0.7443, device='cuda:0'),\n",
              "  tensor(0.7636, device='cuda:0'),\n",
              "  tensor(0.7500, device='cuda:0'),\n",
              "  tensor(0.7689, device='cuda:0'),\n",
              "  tensor(0.7726, device='cuda:0'),\n",
              "  tensor(0.7713, device='cuda:0'),\n",
              "  tensor(0.7709, device='cuda:0'),\n",
              "  tensor(0.7753, device='cuda:0'),\n",
              "  tensor(0.7709, device='cuda:0'),\n",
              "  tensor(0.7793, device='cuda:0'),\n",
              "  tensor(0.7789, device='cuda:0'),\n",
              "  tensor(0.7786, device='cuda:0'),\n",
              "  tensor(0.7749, device='cuda:0'),\n",
              "  tensor(0.7789, device='cuda:0')])"
            ]
          },
          "metadata": {},
          "execution_count": 14
        }
      ],
      "source": [
        "\n",
        "# Train the model\n",
        "train_model(\n",
        "    model,\n",
        "    train_iter,\n",
        "    val_iter,\n",
        "    optimizer=optimizer,\n",
        "    scheduler=scheduler,\n",
        "    criterion=criterion,\n",
        "    epochs=15,  # Increase the number of epochs\n",
        "    early_stopping=False,\n",
        "    patience=4,\n",
        ")"
      ]
    },
    {
      "cell_type": "code",
      "source": [
        "# Test the model\n",
        "print(\"Test set results:\")\n",
        "test_loss, test_acc = evaluate_model(model, test_iter, criterion)\n",
        "print(f\"Test Loss: {test_loss:.4f}, Test Acc: {test_acc:.4f}\")"
      ],
      "metadata": {
        "colab": {
          "base_uri": "https://localhost:8080/"
        },
        "id": "cc4cNaMJp1Nj",
        "outputId": "80f8baf8-f55d-4b5a-a28f-8ed033f07a64"
      },
      "execution_count": 15,
      "outputs": [
        {
          "output_type": "stream",
          "name": "stdout",
          "text": [
            "Test set results:\n",
            "Test Loss: 0.4906, Test Acc: 0.7723\n"
          ]
        }
      ]
    },
    {
      "cell_type": "code",
      "source": [
        "\n",
        "# Define function to calculate F1 score and accuracy\n",
        "def evaluate_test_set(model, test_iterator, criterion):\n",
        "    model.eval()\n",
        "    epoch_loss = 0\n",
        "    true_labels = []\n",
        "    predicted_labels = []\n",
        "\n",
        "    with torch.no_grad():\n",
        "        for batch in test_iterator:\n",
        "            text, text_lengths = batch.text\n",
        "            labels = batch.label\n",
        "            predictions = model(text, text_lengths).squeeze(1)\n",
        "            loss = criterion(predictions, labels)\n",
        "            epoch_loss += loss.item()\n",
        "\n",
        "            # Calculate F1 score\n",
        "            rounded_preds = torch.round(torch.sigmoid(predictions))\n",
        "            true_labels.extend(labels.cpu().numpy())\n",
        "            predicted_labels.extend(rounded_preds.cpu().numpy())\n",
        "\n",
        "    test_loss = epoch_loss / len(test_iterator)\n",
        "    test_acc = binary_accuracy(torch.tensor(predicted_labels), torch.tensor(true_labels))\n",
        "\n",
        "    f1 = f1_score(true_labels, predicted_labels)\n",
        "\n",
        "    return test_loss, test_acc, f1, true_labels, predicted_labels\n",
        "\n",
        "# Evaluate on the test set\n",
        "test_loss, test_acc, f1, true_labels, predicted_labels = evaluate_test_set(model, test_iter, criterion)\n",
        "print(f\"Test Loss: {test_loss:.4f}, Test Accuracy: {test_acc:.4f}, F1 Score: {f1:.4f}\")\n",
        "\n",
        "# Create a confusion matrix\n",
        "confusion = confusion_matrix(true_labels, predicted_labels)\n",
        "\n",
        "# Print the confusion matrix\n",
        "print(\"Confusion Matrix:\")\n",
        "print(confusion)\n",
        "\n",
        "# Visualize the confusion matrix using a heatmap\n",
        "plt.figure(figsize=(8, 6))\n",
        "sns.heatmap(confusion, annot=True, fmt='d', cmap='Blues')\n",
        "plt.xlabel('Predicted Labels')\n",
        "plt.ylabel('True Labels')\n",
        "plt.title('Confusion Matrix')\n",
        "plt.show()\n"
      ],
      "metadata": {
        "id": "SaHmRGmCn8oU",
        "colab": {
          "base_uri": "https://localhost:8080/",
          "height": 633
        },
        "outputId": "9cd008e8-1778-4a60-d037-93ca0754561b"
      },
      "execution_count": 16,
      "outputs": [
        {
          "output_type": "stream",
          "name": "stdout",
          "text": [
            "Test Loss: 0.4906, Test Accuracy: 0.7723, F1 Score: 0.7803\n",
            "Confusion Matrix:\n",
            "[[1104  412]\n",
            " [ 271 1213]]\n"
          ]
        },
        {
          "output_type": "display_data",
          "data": {
            "text/plain": [
              "<Figure size 800x600 with 2 Axes>"
            ],
            "image/png": "[encoded data removed]"
          },
          "metadata": {}
        }
      ]
    }
  ]
}