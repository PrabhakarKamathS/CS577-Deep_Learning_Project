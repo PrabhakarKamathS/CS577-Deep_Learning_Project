{
  "cells": [
    {
      "cell_type": "markdown",
      "metadata": {
        "id": "Y8Fqs3grUm3u"
      },
      "source": [
        "RoBERTa Model"
      ]
    },
    {
      "cell_type": "code",
      "execution_count": null,
      "metadata": {
        "colab": {
          "base_uri": "https://localhost:8080/"
        },
        "id": "wNQjMjxxF2su",
        "outputId": "5d8ad07c-b300-487d-d143-d0738924b05a"
      },
      "outputs": [
        {
          "name": "stdout",
          "output_type": "stream",
          "text": [
            "Drive already mounted at /content/drive; to attempt to forcibly remount, call drive.mount(\"/content/drive\", force_remount=True).\n"
          ]
        }
      ],
      "source": [
        "from google.colab import drive\n",
        "drive.mount('/content/drive')"
      ]
    },
    {
      "cell_type": "markdown",
      "metadata": {
        "id": "9i_PHtcYueo2"
      },
      "source": []
    },
    {
      "cell_type": "code",
      "execution_count": null,
      "metadata": {
        "colab": {
          "base_uri": "https://localhost:8080/"
        },
        "id": "GrrrPDIMUrMr",
        "outputId": "559bea2a-09ea-4433-8697-839914e5b60e"
      },
      "outputs": [
        {
          "name": "stdout",
          "output_type": "stream",
          "text": [
            "Requirement already satisfied: transformers in /usr/local/lib/python3.10/dist-packages (4.34.1)\n",
            "Requirement already satisfied: filelock in /usr/local/lib/python3.10/dist-packages (from transformers) (3.12.4)\n",
            "Requirement already satisfied: huggingface-hub<1.0,>=0.16.4 in /usr/local/lib/python3.10/dist-packages (from transformers) (0.17.3)\n",
            "Requirement already satisfied: numpy>=1.17 in /usr/local/lib/python3.10/dist-packages (from transformers) (1.23.5)\n",
            "Requirement already satisfied: packaging>=20.0 in /usr/local/lib/python3.10/dist-packages (from transformers) (23.2)\n",
            "Requirement already satisfied: pyyaml>=5.1 in /usr/local/lib/python3.10/dist-packages (from transformers) (6.0.1)\n",
            "Requirement already satisfied: regex!=2019.12.17 in /usr/local/lib/python3.10/dist-packages (from transformers) (2023.6.3)\n",
            "Requirement already satisfied: requests in /usr/local/lib/python3.10/dist-packages (from transformers) (2.31.0)\n",
            "Requirement already satisfied: tokenizers<0.15,>=0.14 in /usr/local/lib/python3.10/dist-packages (from transformers) (0.14.1)\n",
            "Requirement already satisfied: safetensors>=0.3.1 in /usr/local/lib/python3.10/dist-packages (from transformers) (0.4.0)\n",
            "Requirement already satisfied: tqdm>=4.27 in /usr/local/lib/python3.10/dist-packages (from transformers) (4.66.1)\n",
            "Requirement already satisfied: fsspec in /usr/local/lib/python3.10/dist-packages (from huggingface-hub<1.0,>=0.16.4->transformers) (2023.6.0)\n",
            "Requirement already satisfied: typing-extensions>=3.7.4.3 in /usr/local/lib/python3.10/dist-packages (from huggingface-hub<1.0,>=0.16.4->transformers) (4.5.0)\n",
            "Requirement already satisfied: charset-normalizer<4,>=2 in /usr/local/lib/python3.10/dist-packages (from requests->transformers) (3.3.1)\n",
            "Requirement already satisfied: idna<4,>=2.5 in /usr/local/lib/python3.10/dist-packages (from requests->transformers) (3.4)\n",
            "Requirement already satisfied: urllib3<3,>=1.21.1 in /usr/local/lib/python3.10/dist-packages (from requests->transformers) (2.0.7)\n",
            "Requirement already satisfied: certifi>=2017.4.17 in /usr/local/lib/python3.10/dist-packages (from requests->transformers) (2023.7.22)\n"
          ]
        }
      ],
      "source": [
        "!pip install transformers"
      ]
    },
    {
      "cell_type": "code",
      "execution_count": null,
      "metadata": {
        "colab": {
          "base_uri": "https://localhost:8080/",
          "height": 1000
        },
        "id": "fuwO1g2O1IAL",
        "outputId": "26c73f53-9ead-406d-ca38-d3550f716f13"
      },
      "outputs": [
        {
          "name": "stdout",
          "output_type": "stream",
          "text": [
            "(30000, 2)\n"
          ]
        },
        {
          "name": "stderr",
          "output_type": "stream",
          "text": [
            "Some weights of RobertaModel were not initialized from the model checkpoint at roberta-base and are newly initialized: ['roberta.pooler.dense.bias', 'roberta.pooler.dense.weight']\n",
            "You should probably TRAIN this model on a down-stream task to be able to use it for predictions and inference.\n"
          ]
        },
        {
          "name": "stdout",
          "output_type": "stream",
          "text": [
            "Train data shape: (20000, 2)\n",
            "Test data shape: (5000, 2)\n",
            "Validation data shape: (5000, 2)\n"
          ]
        },
        {
          "name": "stderr",
          "output_type": "stream",
          "text": [
            "/usr/local/lib/python3.10/dist-packages/transformers/tokenization_utils_base.py:2606: FutureWarning: The `pad_to_max_length` argument is deprecated and will be removed in a future version, use `padding=True` or `padding='longest'` to pad to the longest sequence in the batch, or use `padding='max_length'` to pad to a max length. In this case, you can give a specific length with `max_length` (e.g. `max_length=45`) or leave max_length to None to pad to the maximal input size of the model (e.g. 512 for Bert).\n",
            "  warnings.warn(\n",
            "625it [06:50,  1.52it/s]\n"
          ]
        },
        {
          "name": "stdout",
          "output_type": "stream",
          "text": [
            "Train Loss: 0.4095730185508728 Accuracy: 0.8198116987179487\n"
          ]
        },
        {
          "name": "stderr",
          "output_type": "stream",
          "text": [
            "157it [00:32,  4.79it/s]\n"
          ]
        },
        {
          "name": "stdout",
          "output_type": "stream",
          "text": [
            "Test Loss: 0.33346182107925415 Accuracy: 0.8657852564102564\n"
          ]
        },
        {
          "name": "stderr",
          "output_type": "stream",
          "text": [
            "625it [06:49,  1.53it/s]\n"
          ]
        },
        {
          "name": "stdout",
          "output_type": "stream",
          "text": [
            "Train Loss: 0.2935731112957001 Accuracy: 0.8798076923076923\n"
          ]
        },
        {
          "name": "stderr",
          "output_type": "stream",
          "text": [
            "157it [00:32,  4.79it/s]\n"
          ]
        },
        {
          "name": "stdout",
          "output_type": "stream",
          "text": [
            "Test Loss: 0.3263424038887024 Accuracy: 0.8727964743589743\n"
          ]
        },
        {
          "name": "stderr",
          "output_type": "stream",
          "text": [
            "625it [06:49,  1.53it/s]\n"
          ]
        },
        {
          "name": "stdout",
          "output_type": "stream",
          "text": [
            "Train Loss: 0.2364763617515564 Accuracy: 0.909004407051282\n"
          ]
        },
        {
          "name": "stderr",
          "output_type": "stream",
          "text": [
            "157it [00:32,  4.79it/s]\n"
          ]
        },
        {
          "name": "stdout",
          "output_type": "stream",
          "text": [
            "Test Loss: 0.33740416169166565 Accuracy: 0.866386217948718\n"
          ]
        },
        {
          "name": "stderr",
          "output_type": "stream",
          "text": [
            "625it [06:49,  1.53it/s]\n"
          ]
        },
        {
          "name": "stdout",
          "output_type": "stream",
          "text": [
            "Train Loss: 0.18475642800331116 Accuracy: 0.9319911858974359\n"
          ]
        },
        {
          "name": "stderr",
          "output_type": "stream",
          "text": [
            "157it [00:32,  4.77it/s]\n"
          ]
        },
        {
          "name": "stdout",
          "output_type": "stream",
          "text": [
            "Test Loss: 0.41569191217422485 Accuracy: 0.8633814102564102\n",
            "F1-Score: 0.848728813559322\n",
            "Accuracy: 0.8572\n",
            "Confusion Matrix:\n",
            "[[2283  217]\n",
            " [ 497 2003]]\n"
          ]
        },
        {
          "data": {
            "image/png": "[encoded data removed]",
            "text/plain": [
              "<Figure size 800x600 with 2 Axes>"
            ]
          },
          "metadata": {},
          "output_type": "display_data"
        }
      ],
      "source": [
        "import torch\n",
        "from transformers import RobertaModel\n",
        "import pandas as pd\n",
        "from sklearn.model_selection import train_test_split\n",
        "from transformers import RobertaTokenizer\n",
        "from torch.utils.data import Dataset, DataLoader\n",
        "from tqdm import tqdm\n",
        "import matplotlib.pyplot as plt\n",
        "from sklearn.metrics import f1_score, accuracy_score, confusion_matrix\n",
        "import numpy as np\n",
        "import seaborn as sns\n",
        "\n",
        "TRAIN_BATCH_SIZE = 32\n",
        "TEST_BATCH_SIZE = 32\n",
        "LEARNING_RATE = 1e-05\n",
        "EPOCHS = 4\n",
        "\n",
        "# Read the CSV file and specify the appropriate encoding\n",
        "full_data = pd.read_csv('/content/drive/MyDrive/DataSet/df_small.csv', encoding='latin-1')\n",
        "\n",
        "# Define the number of samples\n",
        "NUM_SAMPLES = 15000\n",
        "\n",
        "# Select the specified number of negative and positive samples\n",
        "negative_samples = full_data[full_data[\"label\"] == 0].head(NUM_SAMPLES)\n",
        "positive_samples = full_data[full_data[\"label\"] == 1].head(NUM_SAMPLES)\n",
        "\n",
        "# Change the label for positive samples to 1\n",
        "positive_samples[\"label\"] = 1\n",
        "\n",
        "# Concatenate the positive and negative samples to create the new full_data DataFrame\n",
        "full_data = pd.concat([negative_samples, positive_samples])\n",
        "\n",
        "# Check the dimensions of the resulting DataFrame\n",
        "print(full_data.shape)  # This should now have 30,000 samples with 15,000 positive and 15,000 negative samples\n",
        "\n",
        "class RobertaClass(torch.nn.Module):\n",
        "    def __init__(self):\n",
        "        super(RobertaClass, self).__init__()\n",
        "        self.l1 = RobertaModel.from_pretrained(\"roberta-base\")\n",
        "        self.pre_classifier = torch.nn.Linear(768, 768)\n",
        "        self.classifier = torch.nn.Linear(768, 2)\n",
        "\n",
        "    def forward(self, input_ids, attention_mask, token_type_ids):\n",
        "        output_1 = self.l1(input_ids=input_ids,\n",
        "                           attention_mask=attention_mask,\n",
        "                           token_type_ids=token_type_ids)\n",
        "        hidden_state = output_1[0]\n",
        "        pooler = hidden_state[:, 0]\n",
        "        pooler = self.pre_classifier(pooler)\n",
        "        pooler = torch.nn.Tanh()(pooler)\n",
        "        output = self.classifier(pooler)\n",
        "        return output\n",
        "\n",
        "model = RobertaClass()\n",
        "model.to(\"cuda:0\")\n",
        "\n",
        "# Shuffle the data\n",
        "full_data = full_data.sample(frac=1, random_state=42).reset_index(drop=True)\n",
        "\n",
        "# Define the sizes for each split\n",
        "total_size = full_data.shape[0]\n",
        "train_size = 20000\n",
        "test_size = 5000\n",
        "valid_size = 5000\n",
        "\n",
        "# Calculate the number of samples for each label\n",
        "num_positive_samples = full_data['label'].sum()\n",
        "num_negative_samples = total_size - num_positive_samples\n",
        "\n",
        "# Calculate the number of positive and negative samples for each set\n",
        "train_pos_samples = int(train_size / 2)\n",
        "train_neg_samples = train_size - train_pos_samples\n",
        "test_pos_samples = int(test_size / 2)\n",
        "test_neg_samples = test_size - test_pos_samples\n",
        "valid_pos_samples = int(valid_size / 2)\n",
        "valid_neg_samples = valid_size - valid_pos_samples\n",
        "\n",
        "# Split the data into training, testing, and validation sets with equal labels\n",
        "train_data = pd.concat([\n",
        "    full_data[full_data['label'] == 1].head(train_pos_samples),\n",
        "    full_data[full_data['label'] == 0].head(train_neg_samples)\n",
        "])\n",
        "\n",
        "test_data = pd.concat([\n",
        "    full_data[full_data['label'] == 1].iloc[train_pos_samples:train_pos_samples + test_pos_samples],\n",
        "    full_data[full_data['label'] == 0].iloc[train_neg_samples:train_neg_samples + test_neg_samples]\n",
        "])\n",
        "\n",
        "valid_data = pd.concat([\n",
        "    full_data[full_data['label'] == 1].iloc[train_pos_samples + test_pos_samples:],\n",
        "    full_data[full_data['label'] == 0].iloc[train_neg_samples + test_neg_samples:]\n",
        "])\n",
        "\n",
        "# Shuffle the data again to randomize the order\n",
        "train_data = train_data.sample(frac=1, random_state=42).reset_index(drop=True)\n",
        "test_data = test_data.sample(frac=1, random_state=42).reset_index(drop=True)\n",
        "valid_data = valid_data.sample(frac=1, random_state=42).reset_index(drop=True)\n",
        "\n",
        "# Print the shapes of the resulting datasets\n",
        "print(\"Train data shape:\", train_data.shape)\n",
        "print(\"Test data shape:\", test_data.shape)\n",
        "print(\"Validation data shape:\", valid_data.shape)\n",
        "\n",
        "train_data['label'].value_counts()\n",
        "\n",
        "valid_data['label'].value_counts()\n",
        "\n",
        "test_data['label'].value_counts()\n",
        "\n",
        "tokenizer = RobertaTokenizer.from_pretrained('roberta-base',\n",
        "                                             truncation=True,\n",
        "                                             do_lower_case=True)\n",
        "MAX_LEN = 130\n",
        "\n",
        "train_tokenized_data = [tokenizer.encode_plus(\n",
        "            text,\n",
        "            None,\n",
        "            add_special_tokens=True,\n",
        "            max_length=MAX_LEN,\n",
        "            pad_to_max_length=True,\n",
        "            return_token_type_ids=True,\n",
        "            truncation=True\n",
        "        )\n",
        "        for text in train_data['text']]\n",
        "\n",
        "test_tokenized_data = [tokenizer.encode_plus(\n",
        "            text,\n",
        "            None,\n",
        "            add_special_tokens=True,\n",
        "            max_length=MAX_LEN,\n",
        "            pad_to_max_length=True,\n",
        "            return_token_type_ids=True,\n",
        "            truncation=True\n",
        "        )\n",
        "        for text in test_data['text']]\n",
        "\n",
        "class SentimentData(Dataset):\n",
        "    def __init__(self, data, inputs_tokenized):\n",
        "        self.inputs = inputs_tokenized\n",
        "        self.text = data['text']\n",
        "        self.targets = data['label']\n",
        "\n",
        "    def __len__(self):\n",
        "        return len(self.text)\n",
        "\n",
        "    def __getitem__(self, index):\n",
        "        text = str(self.text[index])\n",
        "        text = \" \".join(text.split())\n",
        "\n",
        "        input = self.inputs[index]\n",
        "        ids = input['input_ids']\n",
        "        mask = input['attention_mask']\n",
        "        token_type_ids = input['token_type_ids']\n",
        "\n",
        "        return {\n",
        "            'sentence': text,\n",
        "            'ids': torch.tensor(ids, dtype=torch.long),\n",
        "            'mask': torch.tensor(mask, dtype=torch.long),\n",
        "            'token_type_ids': torch.tensor(token_type_ids, dtype=torch.long),\n",
        "            'targets': torch.tensor(self.targets[index], dtype=torch.float)\n",
        "        }\n",
        "\n",
        "train_dataset = SentimentData(train_data, train_tokenized_data)\n",
        "test_dataset = SentimentData(test_data, test_tokenized_data)\n",
        "\n",
        "train_params = {'batch_size': TRAIN_BATCH_SIZE,\n",
        "                'shuffle': True\n",
        "                }\n",
        "\n",
        "test_params = {'batch_size': TEST_BATCH_SIZE,\n",
        "                'shuffle': True\n",
        "                }\n",
        "\n",
        "train_loader = DataLoader(train_dataset, **train_params)\n",
        "test_loader = DataLoader(test_dataset, **test_params)\n",
        "\n",
        "loss_function = torch.nn.CrossEntropyLoss()\n",
        "optimizer = torch.optim.Adam(params=model.parameters(), lr=LEARNING_RATE)\n",
        "train_loss = []\n",
        "test_loss = []\n",
        "\n",
        "train_accuracy = []\n",
        "test_accuracy = []\n",
        "\n",
        "test_answers = [[[], []], [[], []]]\n",
        "\n",
        "\n",
        "def train_loop(epochs):\n",
        "    for epoch in range(epochs):\n",
        "        for phase in ['Train', 'Test']:\n",
        "            if (phase == 'Train'):\n",
        "                model.train()\n",
        "                loader = train_loader\n",
        "            else:\n",
        "                model.eval()\n",
        "                loader = test_loader\n",
        "            epoch_loss = 0\n",
        "            epoch_acc = 0\n",
        "            for steps, data in tqdm(enumerate(loader, 0)):\n",
        "                sentence = data['sentence']\n",
        "                ids = data['ids'].to(\"cuda:0\", dtype=torch.long)\n",
        "                mask = data['mask'].to(\"cuda:0\", dtype=torch.long)\n",
        "                token_type_ids = data['token_type_ids'].to(\"cuda:0\", dtype=torch.long)\n",
        "                targets = data['targets'].to(\"cuda:0\", dtype=torch.long)\n",
        "\n",
        "                outputs = model.forward(ids, mask, token_type_ids)\n",
        "\n",
        "                loss = loss_function(outputs, targets)\n",
        "\n",
        "                epoch_loss += loss.detach()\n",
        "                _, max_indices = torch.max(outputs.data, dim=1)\n",
        "                bath_acc = (max_indices == targets).sum().item() / targets.size(0)\n",
        "                epoch_acc += bath_acc\n",
        "\n",
        "                if (phase == 'Train'):\n",
        "                    train_loss.append(loss.detach())\n",
        "                    train_accuracy.append(bath_acc)\n",
        "                    optimizer.zero_grad()\n",
        "                    loss.backward()\n",
        "                    optimizer.step()\n",
        "                else:\n",
        "                    test_loss.append(loss.detach())\n",
        "                    test_accuracy.append(bath_acc)\n",
        "                    if epoch == epochs - 1:\n",
        "                        for i in range(len(targets)):\n",
        "                            test_answers[targets[i].item()][max_indices[i].item()].append([sentence[i],\n",
        "                                                                                          targets[i].item(),\n",
        "                                                                                          max_indices[i].item()])\n",
        "\n",
        "            print(f\"{phase} Loss: {epoch_loss / steps} Accuracy: {epoch_acc / steps}\")\n",
        "\n",
        "\n",
        "train_loop(EPOCHS)\n",
        "\n",
        "# Extract true labels and predicted labels\n",
        "true_labels = []\n",
        "predicted_labels = []\n",
        "for label in test_answers[0]:\n",
        "    true_labels.extend([item[1] for item in label])\n",
        "    predicted_labels.extend([item[2] for item in label])\n",
        "for label in test_answers[1]:\n",
        "    true_labels.extend([item[1] for item in label])\n",
        "    predicted_labels.extend([item[2] for item in label])\n",
        "\n",
        "true_labels = np.array(true_labels)\n",
        "predicted_labels = np.array(predicted_labels)\n",
        "\n",
        "# Calculate F1-score, accuracy, and confusion matrix\n",
        "f1 = f1_score(true_labels, predicted_labels)\n",
        "accuracy = accuracy_score(true_labels, predicted_labels)\n",
        "confusion = confusion_matrix(true_labels, predicted_labels)\n",
        "\n",
        "print(\"F1-Score:\", f1)\n",
        "print(\"Accuracy:\", accuracy)\n",
        "print(\"Confusion Matrix:\")\n",
        "print(confusion)\n",
        "\n",
        "# Plot the confusion matrix as a heatmap\n",
        "plt.figure(figsize=(8, 6))\n",
        "sns.heatmap(confusion, annot=True, fmt='d', cmap='Blues', xticklabels=['Negative', 'Positive'], yticklabels=['Negative', 'Positive'])\n",
        "plt.xlabel('Predicted')\n",
        "plt.ylabel('True')\n",
        "plt.title('Confusion Matrix')\n",
        "plt.show()\n"
      ]
    }
  ],
  "metadata": {
    "accelerator": "GPU",
    "colab": {
      "gpuType": "T4",
      "provenance": []
    },
    "kernelspec": {
      "display_name": "Python 3",
      "name": "python3"
    },
    "language_info": {
      "codemirror_mode": {
        "name": "ipython",
        "version": 3
      },
      "file_extension": ".py",
      "mimetype": "text/x-python",
      "name": "python",
      "nbconvert_exporter": "python",
      "pygments_lexer": "ipython3",
      "version": "3.11.4"
    }
  },
  "nbformat": 4,
  "nbformat_minor": 0
}
